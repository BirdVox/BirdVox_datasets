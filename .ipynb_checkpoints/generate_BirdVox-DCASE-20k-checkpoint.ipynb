{
 "cells": [
  {
   "cell_type": "code",
   "execution_count": 1,
   "metadata": {
    "collapsed": true,
    "deletable": true,
    "editable": true
   },
   "outputs": [],
   "source": [
    "import numpy as np\n",
    "import os\n",
    "import pandas as pd\n",
    "import random\n",
    "import soundfile as sf\n",
    "import tqdm\n",
    "import uuid\n",
    "\n",
    "\n",
    "data_dir = '/beegfs/vl1019/BirdVox_datasets/'\n",
    "\n",
    "in_name = \"BirdVox-full-night\"\n",
    "out_name = \"BirdVox-DCASE-20k\"\n",
    "in_sr = 24000.0\n",
    "out_sr = 44100.0\n",
    "in_dir = os.path.join(data_dir, in_name)\n",
    "out_dir = os.path.join(data_dir, out_name)\n",
    "os.makedirs(out_dir, exist_ok=True)\n",
    "units = [\"unit\" + str(n).zfill(2) for n in [1, 2, 3, 5, 7, 10]]"
   ]
  },
  {
   "cell_type": "code",
   "execution_count": 5,
   "metadata": {
    "collapsed": false,
    "deletable": true,
    "editable": true
   },
   "outputs": [
    {
     "name": "stderr",
     "output_type": "stream",
     "text": [
      "100%|██████████| 3475/3475 [00:10<00:00, 334.33it/s]\n",
      "100%|██████████| 3477/3477 [00:11<00:00, 300.44it/s]\n",
      "100%|██████████| 3482/3482 [00:13<00:00, 266.49it/s]\n",
      "100%|██████████| 3482/3482 [00:13<00:00, 249.27it/s]\n",
      "100%|██████████| 3476/3476 [00:15<00:00, 228.67it/s]\n",
      "100%|██████████| 2608/2608 [00:12<00:00, 214.67it/s]\n"
     ]
    }
   ],
   "source": [
    "# We add 1299 ms to every hop\n",
    "# to avoid synchronizing the start of items\n",
    "# with the clock of the device and to\n",
    "# have precisely 20,000 items.\n",
    "\n",
    "item_duration = 10 # in seconds\n",
    "hop_duration = item_duration + 1.299\n",
    "    \n",
    "private_df = pd.DataFrame(columns=[\n",
    "    \"Unit\", \"Item start (s)\", \"Has bird\", \"#Calls\", \"UUID\", \"Call timestamps (s)\"]\n",
    ")\n",
    "\n",
    "out_private_dir = os.path.join(out_dir,\n",
    "    out_name + \"_csv-private\")\n",
    "os.makedirs(out_private_dir, exist_ok=True)\n",
    "\n",
    "keygen_path = \"/beegfs/vl1019/BirdVox_datasets/BirdVox-DCASE-20k_keygen.txt\"\n",
    "with open(keygen_path, 'r') as keygen_file:  \n",
    "    private_key_str = keygen_file.read()\n",
    "    private_key_str = private_key_str.replace(\"\\n\", \"\")\n",
    "    private_key_list = list(map(ord, private_key_str))\n",
    "    private_key_nb = sum([private_key_list[i]*(256**i) for i in range(len(private_key_list))])\n",
    "    private_key_nb = np.mod(private_key_nb, 4294967295)\n",
    "random.seed(private_key_nb)\n",
    "\n",
    "\n",
    "for unit_str in units: \n",
    "    # Open CSV annotations.\n",
    "    in_csv_dir = os.path.join(in_dir, \"BirdVox-full-night_csv-annotations\")\n",
    "    in_csv_path = os.path.join(in_csv_dir,\n",
    "        \"BirdVox-full-night_csv-annotations_\" + unit_str + \".csv\")\n",
    "    in_csv_df = pd.read_csv(in_csv_path)\n",
    "    in_times = np.array(in_csv_df[\"Time (s)\"])\n",
    "\n",
    "    # Open FLAC file.\n",
    "    in_flac_dir = os.path.join(in_dir, \"BirdVox-full-night_flac-audio\")\n",
    "    in_flac_path = os.path.join(in_flac_dir,\n",
    "        \"BirdVox-full-night_flac-audio_\" + unit_str + \".flac\")\n",
    "    in_flac = sf.SoundFile(in_flac_path)\n",
    "    in_duration = len(in_flac) / in_sr\n",
    "\n",
    "    # Loop over items\n",
    "    n_items = int((in_duration-item_duration) / hop_duration)\n",
    "    for item_id in tqdm.tqdm(range(n_items)):\n",
    "        # Guarantee a 200 millisecond minimum time span between items\n",
    "        item_start = item_id * hop_duration + 0.1\n",
    "        item_stop = item_start + hop_duration - 0.1\n",
    "\n",
    "        has_bird_left = any((in_times > (item_start + 1.0)) & (in_times < (item_start + 9.0)))\n",
    "        has_bird_right = any((in_times > (item_stop - 9.0)) & (in_times < (item_stop - 1.0)))\n",
    "\n",
    "        # Alternate left truncation and right truncation depending on item parity\n",
    "        if not has_bird_left and not has_bird_right:\n",
    "            if (item_id % 2) == 0:\n",
    "                item_stop = item_start + 10.0\n",
    "            else:\n",
    "                item_start = item_stop - 10.0\n",
    "            call_timestamps = []\n",
    "        else:\n",
    "            if has_bird_left and has_bird_right:\n",
    "                if (item_id % 2) == 0:\n",
    "                    item_stop = item_start + 10.0\n",
    "                else:\n",
    "                    item_start = item_stop - 10.0\n",
    "            elif has_bird_left:\n",
    "                item_stop = item_start + 10.0\n",
    "            elif has_bird_right:\n",
    "                item_start = item_stop - 10.0\n",
    "            call_timestamps = sorted(in_times[(in_times > item_start) & (in_times < item_stop)] - item_start)\n",
    "\n",
    "            assert np.any(np.array(\n",
    "                [np.array(call_timestamps) < 9.0] and [np.array(call_timestamps) > 1.0])[0])\n",
    "\n",
    "        a = \"%32x\" % random.getrandbits(128)\n",
    "        rd = a[:12] + '4' + a[13:16] + 'a' + a[17:]\n",
    "        uuid4 = str(uuid.UUID(rd))\n",
    "\n",
    "        # Append row to DataFrame\n",
    "        n_calls = len(call_timestamps)\n",
    "        has_bird = n_calls > 0\n",
    "        row = pd.DataFrame({\n",
    "            \"Unit\": [unit_str],\n",
    "            \"Item start (s)\": [\"{:9.3f}\".format(item_start)],\n",
    "            \"Has bird\": [int(has_bird)],\n",
    "            \"#Calls\": [n_calls],\n",
    "            \"UUID\": [uuid4],\n",
    "            \"Call timestamps (s)\": [[\"{:5.3f}\".format(t) for t in call_timestamps]]\n",
    "        }, columns = [\n",
    "            \"Unit\", \"Item start (s)\", \"Has bird\", \"#Calls\", \"UUID\", \"Call timestamps (s)\"])\n",
    "        private_df = private_df.append(row)\n",
    "        \n",
    "        \n",
    "# Export private CSV.\n",
    "private_csv_name = \"BirdVox-full-night_csv-private.csv\"\n",
    "private_csv_path = os.path.join(out_private_dir, private_csv_name)\n",
    "private_df.to_csv(private_csv_path, index=False)\n",
    "\n",
    "\n",
    "# Remove quotes.\n",
    "with open(private_csv_path, 'r') as infile, open(private_csv_path[:-4] + \"_noquotes.csv\", 'w') as outfile:\n",
    "    data = infile.read()\n",
    "    data = data.replace(\"\\\"\", \"\")\n",
    "    data = data.replace(\"\\'\", \"\")\n",
    "    outfile.write(data)"
   ]
  },
  {
   "cell_type": "code",
   "execution_count": 27,
   "metadata": {
    "collapsed": false,
    "deletable": true,
    "editable": true
   },
   "outputs": [],
   "source": [
    "from itertools import islice \n",
    "import sox\n",
    "\n",
    "private_df = pd.read_csv(\"/beegfs/vl1019/BirdVox_datasets/BirdVox-DCASE-20k/BirdVox-DCASE-20k_csv-private/BirdVox-full-night_csv-private.csv\")\n",
    "sorted_df = private_df.sort_values(\"UUID\")\n",
    "n_rows = len(sorted_df)\n",
    "\n",
    "for row_id in range(n_rows)[:3]:\n",
    "    row = private_df.iloc[row_id]\n",
    "    unit_str = row[\"Unit\"]\n",
    "    item_start = row[\"Item start (s)\"]\n",
    "    has_bird = row[\"Has bird\"]\n",
    "    uuid = row[\"UUID\"]\n",
    "    \n",
    "    tfm = sox.Transformer()\n",
    "    tfm.trim(item_start, item_start + item_duration)"
   ]
  },
  {
   "cell_type": "code",
   "execution_count": 29,
   "metadata": {
    "collapsed": false,
    "deletable": true,
    "editable": true
   },
   "outputs": [
    {
     "data": {
      "text/plain": [
       "Unit                                                 unit01\n",
       "Item start (s)                                       22.698\n",
       "Has bird                                                  0\n",
       "#Calls                                                    0\n",
       "UUID                   9f8b9739-40a6-439f-aa22-caa42f9758ee\n",
       "Call timestamps (s)                                      []\n",
       "Name: 2, dtype: object"
      ]
     },
     "execution_count": 29,
     "metadata": {},
     "output_type": "execute_result"
    }
   ],
   "source": []
  },
  {
   "cell_type": "code",
   "execution_count": 22,
   "metadata": {
    "collapsed": true,
    "deletable": true,
    "editable": true
   },
   "outputs": [],
   "source": [
    "# Remove quotes.\n",
    "with open(private_csv_path, 'r') as infile, open(private_csv_path[:-4] + \"_noquotes.csv\", 'w') as outfile:\n",
    "    data = infile.read()\n",
    "    data = data.replace(\"\\\"\", \"\")\n",
    "    data = data.replace(\"\\'\", \"\")\n",
    "    outfile.write(data)"
   ]
  },
  {
   "cell_type": "code",
   "execution_count": 28,
   "metadata": {
    "collapsed": false,
    "deletable": true,
    "editable": true
   },
   "outputs": [],
   "source": [
    "extra_positives_path = \"/beegfs/vl1019/BirdVox_datasets/BirdVox-DCASE-20k/BirdVox-DCASE-20k_csv-private/extra_positives.md\"\n",
    "with open(extra_positives_path, 'r') as infile:\n",
    "    data = infile.read()\n",
    "extra_regions = [x.split(\"\\n\") for x in data.split(\"**\")[2::2]]"
   ]
  },
  {
   "cell_type": "code",
   "execution_count": 69,
   "metadata": {
    "collapsed": false,
    "deletable": true,
    "editable": true
   },
   "outputs": [
    {
     "name": "stdout",
     "output_type": "stream",
     "text": [
      "10:54:26 10:54:29 39266 39269\n",
      "10:54:38 10:54:41 39278 39281\n"
     ]
    }
   ],
   "source": [
    "unit_extra_regions = extra_regions[0]\n",
    "for extra_region in unit_extra_regions:\n",
    "    if extra_region == \"\":\n",
    "        continue\n",
    "        \n",
    "    extra_region_split = extra_region.split(\"->\")\n",
    "    extra_region_split = list(map(lambda s: s.replace(\" \", \"\"), extra_region_split))\n",
    "    start_str = extra_region_split[0]\n",
    "    start = int(start_str[0:2])*3600 + int(start_str[3:5])*60 + int(start_str[6:9])\n",
    "    stop_str = extra_region_split[1]\n",
    "    stop = int(stop_str[0:2])*3600 + int(stop_str[3:5])*60 + int(stop_str[6:9])\n",
    "    print(start_str, stop_str, start, stop)"
   ]
  },
  {
   "cell_type": "code",
   "execution_count": 67,
   "metadata": {
    "collapsed": false,
    "deletable": true,
    "editable": true
   },
   "outputs": [
    {
     "data": {
      "text/plain": [
       "'38'"
      ]
     },
     "execution_count": 67,
     "metadata": {},
     "output_type": "execute_result"
    }
   ],
   "source": [
    "start_str[6:9]"
   ]
  },
  {
   "cell_type": "code",
   "execution_count": 27,
   "metadata": {
    "collapsed": false,
    "deletable": true,
    "editable": true
   },
   "outputs": [
    {
     "data": {
      "text/plain": [
       "['10:54:26 -> 10:54:29', '10:54:38 -> 10:54:41', '', '', '']"
      ]
     },
     "execution_count": 27,
     "metadata": {},
     "output_type": "execute_result"
    }
   ],
   "source": [
    "unit_extra_regions"
   ]
  },
  {
   "cell_type": "code",
   "execution_count": 57,
   "metadata": {
    "collapsed": false,
    "deletable": true,
    "editable": true
   },
   "outputs": [
    {
     "data": {
      "text/plain": [
       "[<matplotlib.lines.Line2D at 0x2ade6becee10>]"
      ]
     },
     "execution_count": 57,
     "metadata": {},
     "output_type": "execute_result"
    },
    {
     "data": {
      "image/png": "[encoded data removed]",
      "text/plain": [
       "<matplotlib.figure.Figure at 0x2ade696a87b8>"
      ]
     },
     "metadata": {},
     "output_type": "display_data"
    }
   ],
   "source": [
    "from collections import Counter\n",
    "from matplotlib import pyplot as plt\n",
    "%matplotlib inline\n",
    "\n",
    "starts = np.array(private_df[\"Item start (s)\"])\n",
    "\n",
    "plt.plot(np.array(list(Counter((1000 * (starts - np.floor(starts))).astype('int')).values())), 'o')"
   ]
  }
 ],
 "metadata": {
  "kernelspec": {
   "display_name": "Python 3",
   "language": "python",
   "name": "python3"
  },
  "language_info": {
   "codemirror_mode": {
    "name": "ipython",
    "version": 3
   },
   "file_extension": ".py",
   "mimetype": "text/x-python",
   "name": "python",
   "nbconvert_exporter": "python",
   "pygments_lexer": "ipython3",
   "version": "3.6.0"
  }
 },
 "nbformat": 4,
 "nbformat_minor": 2
}
