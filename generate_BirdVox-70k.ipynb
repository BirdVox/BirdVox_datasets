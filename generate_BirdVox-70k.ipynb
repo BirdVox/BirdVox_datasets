{
 "cells": [
  {
   "cell_type": "code",
   "execution_count": 3,
   "metadata": {
    "collapsed": true
   },
   "outputs": [],
   "source": [
    "import numpy as np\n",
    "import os\n",
    "import pandas as pd\n",
    "import random\n",
    "import soundfile as sf\n",
    "import tqdm\n",
    "import uuid\n",
    "\n",
    "\n",
    "data_dir = '/beegfs/vl1019/BirdVox_datasets/'\n",
    "\n",
    "in_name = \"BirdVox-full-night\"\n",
    "out_name = \"BirdVox-70k\"\n",
    "in_sr = 24000.0\n",
    "out_sr = 44100.0\n",
    "in_dir = os.path.join(data_dir, in_name)\n",
    "out_dir = os.path.join(data_dir, out_name)\n",
    "os.makedirs(out_dir, exist_ok=True)\n",
    "units = [\"unit\" + str(n).zfill(2) for n in [1, 2, 3, 5, 7, 10]]"
   ]
  },
  {
   "cell_type": "code",
   "execution_count": null,
   "metadata": {
    "collapsed": true
   },
   "outputs": [],
   "source": []
  }
 ],
 "metadata": {
  "kernelspec": {
   "display_name": "Python 3",
   "language": "python",
   "name": "python3"
  },
  "language_info": {
   "codemirror_mode": {
    "name": "ipython",
    "version": 3
   },
   "file_extension": ".py",
   "mimetype": "text/x-python",
   "name": "python",
   "nbconvert_exporter": "python",
   "pygments_lexer": "ipython3",
   "version": "3.6.0"
  }
 },
 "nbformat": 4,
 "nbformat_minor": 2
}
