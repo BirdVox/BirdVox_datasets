{
 "cells": [
  {
   "cell_type": "code",
   "execution_count": 1,
   "metadata": {
    "collapsed": false,
    "deletable": true,
    "editable": true
   },
   "outputs": [
    {
     "data": {
      "text/plain": [
       "5"
      ]
     },
     "execution_count": 1,
     "metadata": {},
     "output_type": "execute_result"
    }
   ],
   "source": [
    "2+3"
   ]
  },
  {
   "cell_type": "code",
   "execution_count": 2,
   "metadata": {
    "collapsed": false,
    "deletable": true,
    "editable": true
   },
   "outputs": [],
   "source": [
    "import h5py\n",
    "import librosa\n",
    "import numpy as np\n",
    "import os\n",
    "import pandas as pd\n",
    "import random\n",
    "import soundfile as sf\n",
    "import sys\n",
    "import time\n",
    "import tqdm\n",
    "import uuid\n",
    "\n",
    "\n",
    "\n",
    "data_dir = '/beegfs/vl1019/BirdVox_datasets/'\n",
    "predictions_dir = 'etc/BirdVox-full-night_baseline-predictions'\n",
    "\n",
    "in_name = \"BirdVox-full-night\"\n",
    "out_name = \"BirdVox-70k\"\n",
    "in_sr = 24000.0\n",
    "out_sr = 44100.0\n",
    "in_dir = os.path.join(data_dir, in_name)\n",
    "out_dir = os.path.join(data_dir, out_name)\n",
    "os.makedirs(out_dir, exist_ok=True)\n",
    "units = [\"unit\" + str(n).zfill(2) for n in [1, 2, 3, 5, 7, 10]]\n",
    "hdf5_dir = os.path.join(out_dir, \"hdf5_audio\")\n",
    "os.makedirs(hdf5_dir, exist_ok=True)"
   ]
  },
  {
   "cell_type": "code",
   "execution_count": 3,
   "metadata": {
    "collapsed": false,
    "deletable": true,
    "editable": true
   },
   "outputs": [
    {
     "name": "stdout",
     "output_type": "stream",
     "text": [
      "unit01\n"
     ]
    },
    {
     "name": "stderr",
     "output_type": "stream",
     "text": [
      "2926it [00:02, 994.13it/s] \n"
     ]
    },
    {
     "name": "stdout",
     "output_type": "stream",
     "text": [
      "unit02\n"
     ]
    },
    {
     "name": "stderr",
     "output_type": "stream",
     "text": [
      "4730it [00:07, 633.51it/s]\n"
     ]
    },
    {
     "name": "stdout",
     "output_type": "stream",
     "text": [
      "unit03\n"
     ]
    },
    {
     "name": "stderr",
     "output_type": "stream",
     "text": [
      "9113it [00:11, 810.94it/s] \n"
     ]
    },
    {
     "name": "stdout",
     "output_type": "stream",
     "text": [
      "unit05\n"
     ]
    },
    {
     "name": "stderr",
     "output_type": "stream",
     "text": [
      "5264it [00:07, 694.76it/s] \n"
     ]
    },
    {
     "name": "stdout",
     "output_type": "stream",
     "text": [
      "unit07\n"
     ]
    },
    {
     "name": "stderr",
     "output_type": "stream",
     "text": [
      "6530it [00:08, 800.10it/s]\n"
     ]
    },
    {
     "name": "stdout",
     "output_type": "stream",
     "text": [
      "unit10\n"
     ]
    },
    {
     "name": "stderr",
     "output_type": "stream",
     "text": [
      "6839it [00:09, 752.90it/s] \n"
     ]
    }
   ],
   "source": [
    "orig_sr = 24000\n",
    "clip_length = int(0.500 * orig_sr) # a clip lasts 500 ms\n",
    "\n",
    "\n",
    "for unit_str in units:\n",
    "    \n",
    "    print(unit_str)\n",
    "\n",
    "    unit_path = os.path.join(predictions_dir,\n",
    "        unit_str + \".npy\")\n",
    "    predictions = np.load(unit_path)\n",
    "\n",
    "    samples = []\n",
    "    annotation_name = \"BirdVox-full-night_csv-annotations_\" + unit_str + \".csv\"\n",
    "    annotations_dir = os.path.join(in_dir, \"BirdVox-full-night_csv-annotations\")\n",
    "    annotation_path = os.path.join(annotations_dir, annotation_name)\n",
    "    df = pd.read_csv(annotation_path, sep=',')\n",
    "    recording_name = \"BirdVox-full-night_flac-audio_\" + unit_str + \".flac\"\n",
    "    recordings_dir = os.path.join(in_dir, \"BirdVox-full-night_flac-audio\")\n",
    "    recording_path = os.path.join(recordings_dir, recording_name)\n",
    "    full_night = sf.SoundFile(recording_path)\n",
    "    n_positive_samples = 0\n",
    "    n_negative_samples = 0\n",
    "    samples = []\n",
    "\n",
    "\n",
    "    # Load probabilities of the baseline prediction model.\n",
    "    prediction_name = unit_str + \".npy\"\n",
    "    prediction_path = os.path.join(predictions_dir, prediction_name)\n",
    "    prob_matrix = np.load(prediction_path)\n",
    "\n",
    "\n",
    "    # Retrieve timestamps corresponding to decreasing confidences.\n",
    "    prob_samples = (prob_matrix[:, 0] * orig_sr).astype('int')\n",
    "    probs = prob_matrix[:, 1]\n",
    "    sorting_indices = np.argsort(probs)[::-1]\n",
    "    sorted_probs = probs[sorting_indices]\n",
    "    sorted_prob_samples = prob_samples[sorting_indices]\n",
    "    sorted_prob_samples = sorted_prob_samples\n",
    "\n",
    "\n",
    "    # Initialize HDF5 container.\n",
    "    file_name = \"_\".join([\"BirdVox-70k\", unit_str])\n",
    "    file_path = os.path.join(hdf5_dir, file_name + \".hdf5\")\n",
    "    f = h5py.File(file_path, \"w\")\n",
    "    waveform_group = f.create_group(\"waveforms\")\n",
    "\n",
    "\n",
    "    # Export every annotation either as positive (flight call).\n",
    "    for index, row in tqdm.tqdm(df.iterrows()):\n",
    "        # Compute center time of the annotation bounding box.\n",
    "        mid_time = float(row[\"Time (s)\"])\n",
    "        sample = int(orig_sr * mid_time)\n",
    "        samples.append(sample)\n",
    "        sample_str = str(sample).zfill(9)\n",
    "\n",
    "        # Compute center frequency of the annotation bounding box.\n",
    "        mid_freq = float(row[\"Freq (Hz)\"])\n",
    "        freq_str = str(int(mid_freq)).zfill(5)\n",
    "\n",
    "        # Define key.\n",
    "        key = \"_\".join([unit_str, sample_str, freq_str, \"1\"])\n",
    "\n",
    "        # Read.\n",
    "        sample_start = sample - int(0.5 * clip_length)\n",
    "        full_night.seek(sample_start)\n",
    "        data = full_night.read(clip_length)\n",
    "        waveform_group[key] = data\n",
    "\n",
    "        n_positive_samples = n_positive_samples + 1\n",
    "\n",
    "\n",
    "    # The exported false positives correspond to the timestamps with highest\n",
    "    # confidences under the condition that they are 12000 samples (500 ms) apart\n",
    "    # from all previously exported clips.\n",
    "    prob_counter = 0\n",
    "    false_positive_counter = 0\n",
    "    n_false_positives = n_positive_samples\n",
    "    while false_positive_counter < n_false_positives:\n",
    "        prob_sample = sorted_prob_samples[prob_counter]\n",
    "        dists = [np.abs(sample-prob_sample) for sample in samples]\n",
    "        min_dist = np.min(dists)\n",
    "        if min_dist > clip_length:\n",
    "            # Append sample to growing list.\n",
    "            sample_str = str(prob_sample).zfill(9)\n",
    "\n",
    "            # Define key.\n",
    "            # By convention, the frequency of a false positive example is 0 Hz.\n",
    "            key = \"_\".join([unit_str, sample_str, \"00000\", \"0\"])\n",
    "\n",
    "            # Read.\n",
    "            sample_start = prob_sample - int(0.5 * clip_length)\n",
    "            samples.append(prob_sample)\n",
    "            full_night.seek(sample_start)\n",
    "            data = full_night.read(clip_length)\n",
    "            waveform_group[key] = data\n",
    "\n",
    "            false_positive_counter = false_positive_counter + 1\n",
    "        prob_counter = prob_counter + 1\n",
    "\n",
    "\n",
    "    # Close file\n",
    "    f.close()"
   ]
  },
  {
   "cell_type": "code",
   "execution_count": 15,
   "metadata": {
    "collapsed": false,
    "deletable": true,
    "editable": true
   },
   "outputs": [
    {
     "data": {
      "text/plain": [
       "0"
      ]
     },
     "execution_count": 15,
     "metadata": {},
     "output_type": "execute_result"
    }
   ],
   "source": [
    "os.system(''.join([\n",
    "    'cp ',\n",
    "    os.path.join(in_dir, 'BirdVox-full-night_gps-coordinates.csv'),\n",
    "    ' ',\n",
    "    os.path.join(out_dir, 'BirdVox-70k_gps-coordinates.csv'),\n",
    "]))\n",
    "os.system(''.join([\n",
    "    'cp ',\n",
    "    os.path.join(in_dir, 'BirdVox-full-night_utc-start-times.csv'),\n",
    "    ' ',\n",
    "    os.path.join(out_dir, 'BirdVox-70k_utc-start-times.csv'),\n",
    "]))"
   ]
  },
  {
   "cell_type": "code",
   "execution_count": 13,
   "metadata": {
    "collapsed": false
   },
   "outputs": [
    {
     "data": {
      "text/plain": [
       "'cp /beegfs/vl1019/BirdVox_datasets/BirdVox-full-night/BirdVox-full-night_gps-coordinates.csv/beegfs/vl1019/BirdVox_datasets/BirdVox-70k/BirdVox-70k_gps-coordinates.csv'"
      ]
     },
     "execution_count": 13,
     "metadata": {},
     "output_type": "execute_result"
    }
   ],
   "source": [
    "''.join([\n",
    "    'cp ',\n",
    "    os.path.join(in_dir, 'BirdVox-full-night_gps-coordinates.csv'),\n",
    "    os.path.join(out_dir, 'BirdVox-70k_gps-coordinates.csv'),\n",
    "])"
   ]
  },
  {
   "cell_type": "code",
   "execution_count": 5,
   "metadata": {
    "collapsed": false,
    "deletable": true,
    "editable": true
   },
   "outputs": [
    {
     "name": "stdout",
     "output_type": "stream",
     "text": [
      "Counter({'0': 6839, '1': 6839})\n"
     ]
    }
   ],
   "source": [
    "from collections import Counter\n",
    "f = h5py.File(file_path, \"r\")\n",
    "print(Counter([x[-1] for x in list(f[\"waveforms\"].keys())]))\n",
    "f.close()"
   ]
  },
  {
   "cell_type": "code",
   "execution_count": 31,
   "metadata": {
    "collapsed": false,
    "deletable": true,
    "editable": true
   },
   "outputs": [
    {
     "data": {
      "text/plain": [
       "5852"
      ]
     },
     "execution_count": 31,
     "metadata": {},
     "output_type": "execute_result"
    }
   ],
   "source": [
    "n_positive_samples"
   ]
  },
  {
   "cell_type": "code",
   "execution_count": 28,
   "metadata": {
    "collapsed": false,
    "deletable": true,
    "editable": true
   },
   "outputs": [
    {
     "ename": "KeyError",
     "evalue": "\"Unable to open object (Object 'waveforms' doesn't exist)\"",
     "output_type": "error",
     "traceback": [
      "\u001b[0;31m---------------------------------------------------------------------------\u001b[0m",
      "\u001b[0;31mKeyError\u001b[0m                                  Traceback (most recent call last)",
      "\u001b[0;32m<ipython-input-28-c6ef638de001>\u001b[0m in \u001b[0;36m<module>\u001b[0;34m()\u001b[0m\n\u001b[0;32m----> 1\u001b[0;31m \u001b[0mlist\u001b[0m\u001b[0;34m(\u001b[0m\u001b[0mf\u001b[0m\u001b[0;34m[\u001b[0m\u001b[0;34m\"waveforms\"\u001b[0m\u001b[0;34m]\u001b[0m\u001b[0;34m.\u001b[0m\u001b[0mkeys\u001b[0m\u001b[0;34m(\u001b[0m\u001b[0;34m)\u001b[0m\u001b[0;34m)\u001b[0m\u001b[0;34m\u001b[0m\u001b[0m\n\u001b[0m",
      "\u001b[0;32mh5py/_objects.pyx\u001b[0m in \u001b[0;36mh5py._objects.with_phil.wrapper (/tmp/pip-tnf92dft-build/h5py/_objects.c:2853)\u001b[0;34m()\u001b[0m\n",
      "\u001b[0;32mh5py/_objects.pyx\u001b[0m in \u001b[0;36mh5py._objects.with_phil.wrapper (/tmp/pip-tnf92dft-build/h5py/_objects.c:2811)\u001b[0;34m()\u001b[0m\n",
      "\u001b[0;32m/home/vl1019/miniconda3/lib/python3.6/site-packages/h5py/_hl/group.py\u001b[0m in \u001b[0;36m__getitem__\u001b[0;34m(self, name)\u001b[0m\n\u001b[1;32m    164\u001b[0m                 \u001b[0;32mraise\u001b[0m \u001b[0mValueError\u001b[0m\u001b[0;34m(\u001b[0m\u001b[0;34m\"Invalid HDF5 object reference\"\u001b[0m\u001b[0;34m)\u001b[0m\u001b[0;34m\u001b[0m\u001b[0m\n\u001b[1;32m    165\u001b[0m         \u001b[0;32melse\u001b[0m\u001b[0;34m:\u001b[0m\u001b[0;34m\u001b[0m\u001b[0m\n\u001b[0;32m--> 166\u001b[0;31m             \u001b[0moid\u001b[0m \u001b[0;34m=\u001b[0m \u001b[0mh5o\u001b[0m\u001b[0;34m.\u001b[0m\u001b[0mopen\u001b[0m\u001b[0;34m(\u001b[0m\u001b[0mself\u001b[0m\u001b[0;34m.\u001b[0m\u001b[0mid\u001b[0m\u001b[0;34m,\u001b[0m \u001b[0mself\u001b[0m\u001b[0;34m.\u001b[0m\u001b[0m_e\u001b[0m\u001b[0;34m(\u001b[0m\u001b[0mname\u001b[0m\u001b[0;34m)\u001b[0m\u001b[0;34m,\u001b[0m \u001b[0mlapl\u001b[0m\u001b[0;34m=\u001b[0m\u001b[0mself\u001b[0m\u001b[0;34m.\u001b[0m\u001b[0m_lapl\u001b[0m\u001b[0;34m)\u001b[0m\u001b[0;34m\u001b[0m\u001b[0m\n\u001b[0m\u001b[1;32m    167\u001b[0m \u001b[0;34m\u001b[0m\u001b[0m\n\u001b[1;32m    168\u001b[0m         \u001b[0motype\u001b[0m \u001b[0;34m=\u001b[0m \u001b[0mh5i\u001b[0m\u001b[0;34m.\u001b[0m\u001b[0mget_type\u001b[0m\u001b[0;34m(\u001b[0m\u001b[0moid\u001b[0m\u001b[0;34m)\u001b[0m\u001b[0;34m\u001b[0m\u001b[0m\n",
      "\u001b[0;32mh5py/_objects.pyx\u001b[0m in \u001b[0;36mh5py._objects.with_phil.wrapper (/tmp/pip-tnf92dft-build/h5py/_objects.c:2853)\u001b[0;34m()\u001b[0m\n",
      "\u001b[0;32mh5py/_objects.pyx\u001b[0m in \u001b[0;36mh5py._objects.with_phil.wrapper (/tmp/pip-tnf92dft-build/h5py/_objects.c:2811)\u001b[0;34m()\u001b[0m\n",
      "\u001b[0;32mh5py/h5o.pyx\u001b[0m in \u001b[0;36mh5py.h5o.open (/tmp/pip-tnf92dft-build/h5py/h5o.c:3739)\u001b[0;34m()\u001b[0m\n",
      "\u001b[0;31mKeyError\u001b[0m: \"Unable to open object (Object 'waveforms' doesn't exist)\""
     ]
    }
   ],
   "source": [
    "list(f[\"waveforms\"].keys())"
   ]
  },
  {
   "cell_type": "code",
   "execution_count": 23,
   "metadata": {
    "collapsed": false,
    "deletable": true,
    "editable": true
   },
   "outputs": [
    {
     "data": {
      "text/plain": [
       "[]"
      ]
     },
     "execution_count": 23,
     "metadata": {},
     "output_type": "execute_result"
    }
   ],
   "source": [
    "list(f.keys())"
   ]
  },
  {
   "cell_type": "code",
   "execution_count": 6,
   "metadata": {
    "collapsed": false,
    "deletable": true,
    "editable": true
   },
   "outputs": [],
   "source": [
    "f.close()"
   ]
  },
  {
   "cell_type": "code",
   "execution_count": 29,
   "metadata": {
    "collapsed": false,
    "deletable": true,
    "editable": true
   },
   "outputs": [
    {
     "data": {
      "text/plain": [
       "[]"
      ]
     },
     "execution_count": 29,
     "metadata": {},
     "output_type": "execute_result"
    }
   ],
   "source": [
    "list(f.keys())"
   ]
  },
  {
   "cell_type": "code",
   "execution_count": 30,
   "metadata": {
    "collapsed": false,
    "deletable": true,
    "editable": true
   },
   "outputs": [
    {
     "data": {
      "text/plain": [
       "array([ -5.85937500e-03,   9.15527344e-05,  -6.50024414e-03, ...,\n",
       "        -6.19506836e-03,   6.56127930e-03,   1.82495117e-02])"
      ]
     },
     "execution_count": 30,
     "metadata": {},
     "output_type": "execute_result"
    }
   ],
   "source": [
    "data"
   ]
  },
  {
   "cell_type": "code",
   "execution_count": 31,
   "metadata": {
    "collapsed": false,
    "deletable": true,
    "editable": true
   },
   "outputs": [
    {
     "data": {
      "text/plain": [
       "'unit01_942565200_04847_1'"
      ]
     },
     "execution_count": 31,
     "metadata": {},
     "output_type": "execute_result"
    }
   ],
   "source": [
    "key"
   ]
  },
  {
   "cell_type": "code",
   "execution_count": null,
   "metadata": {
    "collapsed": true,
    "deletable": true,
    "editable": true
   },
   "outputs": [],
   "source": []
  }
 ],
 "metadata": {
  "kernelspec": {
   "display_name": "Python 3",
   "language": "python",
   "name": "python3"
  }
 },
 "nbformat": 4,
 "nbformat_minor": 2
}
